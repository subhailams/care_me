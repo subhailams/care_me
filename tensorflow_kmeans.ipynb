{
  "nbformat": 4,
  "nbformat_minor": 0,
  "metadata": {
    "colab": {
      "name": "tensorflow_kmeans.ipynb",
      "provenance": [],
      "collapsed_sections": []
    },
    "kernelspec": {
      "name": "python3",
      "display_name": "Python 3"
    }
  },
  "cells": [
    {
      "cell_type": "code",
      "metadata": {
        "id": "pdWPPR7Ha2QF",
        "colab_type": "code",
        "colab": {}
      },
      "source": [
        "from __future__ import print_function\n",
        "\n",
        "import numpy as np\n",
        "import tensorflow as tf\n",
        "import pandas as pd\n",
        "import seaborn as sns\n",
        "import matplotlib.pyplot as plt\n",
        "from sklearn.cluster import KMeans"
      ],
      "execution_count": 0,
      "outputs": []
    },
    {
      "cell_type": "code",
      "metadata": {
        "id": "zpfmBQFXgF19",
        "colab_type": "code",
        "outputId": "74854f52-4dea-4781-a510-8b44213eb2bd",
        "colab": {
          "base_uri": "https://localhost:8080/",
          "height": 34
        }
      },
      "source": [
        "from google.colab import drive\n",
        "drive.mount('/content/drive',force_remount=True)"
      ],
      "execution_count": 0,
      "outputs": [
        {
          "output_type": "stream",
          "text": [
            "Mounted at /content/drive\n"
          ],
          "name": "stdout"
        }
      ]
    },
    {
      "cell_type": "code",
      "metadata": {
        "id": "a25HBW1xa7Ge",
        "colab_type": "code",
        "colab": {}
      },
      "source": [
        "data = pd.read_csv(\"drive/My Drive/abortion1m.csv\")"
      ],
      "execution_count": 0,
      "outputs": []
    },
    {
      "cell_type": "code",
      "metadata": {
        "id": "XeQnPIJmxWtF",
        "colab_type": "code",
        "outputId": "adf588e5-1feb-4b0f-eb9b-7c0a341d26a7",
        "colab": {
          "base_uri": "https://localhost:8080/",
          "height": 359
        }
      },
      "source": [
        "data.shape\n",
        "data.head(10)"
      ],
      "execution_count": 0,
      "outputs": [
        {
          "output_type": "execute_result",
          "data": {
            "text/html": [
              "<div>\n",
              "<style scoped>\n",
              "    .dataframe tbody tr th:only-of-type {\n",
              "        vertical-align: middle;\n",
              "    }\n",
              "\n",
              "    .dataframe tbody tr th {\n",
              "        vertical-align: top;\n",
              "    }\n",
              "\n",
              "    .dataframe thead th {\n",
              "        text-align: right;\n",
              "    }\n",
              "</style>\n",
              "<table border=\"1\" class=\"dataframe\">\n",
              "  <thead>\n",
              "    <tr style=\"text-align: right;\">\n",
              "      <th></th>\n",
              "      <th>Age</th>\n",
              "      <th>BMI</th>\n",
              "      <th>Nmisc</th>\n",
              "      <th>Activity</th>\n",
              "      <th>Location</th>\n",
              "      <th>temp</th>\n",
              "      <th>bpm</th>\n",
              "      <th>stress</th>\n",
              "      <th>bp</th>\n",
              "      <th>Miscarriage/ No Miscarriage</th>\n",
              "    </tr>\n",
              "  </thead>\n",
              "  <tbody>\n",
              "    <tr>\n",
              "      <th>0</th>\n",
              "      <td>25</td>\n",
              "      <td>19.84127</td>\n",
              "      <td>2</td>\n",
              "      <td>1</td>\n",
              "      <td>2</td>\n",
              "      <td>33</td>\n",
              "      <td>103</td>\n",
              "      <td>0</td>\n",
              "      <td>2</td>\n",
              "      <td>1</td>\n",
              "    </tr>\n",
              "    <tr>\n",
              "      <th>1</th>\n",
              "      <td>25</td>\n",
              "      <td>19.84127</td>\n",
              "      <td>2</td>\n",
              "      <td>1</td>\n",
              "      <td>2</td>\n",
              "      <td>31</td>\n",
              "      <td>103</td>\n",
              "      <td>0</td>\n",
              "      <td>2</td>\n",
              "      <td>0</td>\n",
              "    </tr>\n",
              "    <tr>\n",
              "      <th>2</th>\n",
              "      <td>25</td>\n",
              "      <td>19.84127</td>\n",
              "      <td>2</td>\n",
              "      <td>1</td>\n",
              "      <td>2</td>\n",
              "      <td>31</td>\n",
              "      <td>103</td>\n",
              "      <td>0</td>\n",
              "      <td>2</td>\n",
              "      <td>1</td>\n",
              "    </tr>\n",
              "    <tr>\n",
              "      <th>3</th>\n",
              "      <td>25</td>\n",
              "      <td>19.84127</td>\n",
              "      <td>2</td>\n",
              "      <td>1</td>\n",
              "      <td>2</td>\n",
              "      <td>32</td>\n",
              "      <td>103</td>\n",
              "      <td>0</td>\n",
              "      <td>2</td>\n",
              "      <td>0</td>\n",
              "    </tr>\n",
              "    <tr>\n",
              "      <th>4</th>\n",
              "      <td>25</td>\n",
              "      <td>19.84127</td>\n",
              "      <td>2</td>\n",
              "      <td>1</td>\n",
              "      <td>2</td>\n",
              "      <td>30</td>\n",
              "      <td>103</td>\n",
              "      <td>0</td>\n",
              "      <td>2</td>\n",
              "      <td>1</td>\n",
              "    </tr>\n",
              "    <tr>\n",
              "      <th>5</th>\n",
              "      <td>25</td>\n",
              "      <td>19.84127</td>\n",
              "      <td>2</td>\n",
              "      <td>1</td>\n",
              "      <td>2</td>\n",
              "      <td>36</td>\n",
              "      <td>103</td>\n",
              "      <td>0</td>\n",
              "      <td>2</td>\n",
              "      <td>1</td>\n",
              "    </tr>\n",
              "    <tr>\n",
              "      <th>6</th>\n",
              "      <td>25</td>\n",
              "      <td>19.84127</td>\n",
              "      <td>2</td>\n",
              "      <td>1</td>\n",
              "      <td>2</td>\n",
              "      <td>28</td>\n",
              "      <td>103</td>\n",
              "      <td>0</td>\n",
              "      <td>2</td>\n",
              "      <td>1</td>\n",
              "    </tr>\n",
              "    <tr>\n",
              "      <th>7</th>\n",
              "      <td>25</td>\n",
              "      <td>19.84127</td>\n",
              "      <td>2</td>\n",
              "      <td>1</td>\n",
              "      <td>2</td>\n",
              "      <td>37</td>\n",
              "      <td>103</td>\n",
              "      <td>0</td>\n",
              "      <td>2</td>\n",
              "      <td>0</td>\n",
              "    </tr>\n",
              "    <tr>\n",
              "      <th>8</th>\n",
              "      <td>25</td>\n",
              "      <td>19.84127</td>\n",
              "      <td>2</td>\n",
              "      <td>1</td>\n",
              "      <td>2</td>\n",
              "      <td>39</td>\n",
              "      <td>103</td>\n",
              "      <td>0</td>\n",
              "      <td>2</td>\n",
              "      <td>0</td>\n",
              "    </tr>\n",
              "    <tr>\n",
              "      <th>9</th>\n",
              "      <td>25</td>\n",
              "      <td>19.84127</td>\n",
              "      <td>2</td>\n",
              "      <td>1</td>\n",
              "      <td>2</td>\n",
              "      <td>34</td>\n",
              "      <td>103</td>\n",
              "      <td>0</td>\n",
              "      <td>2</td>\n",
              "      <td>0</td>\n",
              "    </tr>\n",
              "  </tbody>\n",
              "</table>\n",
              "</div>"
            ],
            "text/plain": [
              "   Age       BMI  Nmisc  Activity  ...  bpm  stress  bp  Miscarriage/ No Miscarriage\n",
              "0   25  19.84127      2         1  ...  103       0   2                            1\n",
              "1   25  19.84127      2         1  ...  103       0   2                            0\n",
              "2   25  19.84127      2         1  ...  103       0   2                            1\n",
              "3   25  19.84127      2         1  ...  103       0   2                            0\n",
              "4   25  19.84127      2         1  ...  103       0   2                            1\n",
              "5   25  19.84127      2         1  ...  103       0   2                            1\n",
              "6   25  19.84127      2         1  ...  103       0   2                            1\n",
              "7   25  19.84127      2         1  ...  103       0   2                            0\n",
              "8   25  19.84127      2         1  ...  103       0   2                            0\n",
              "9   25  19.84127      2         1  ...  103       0   2                            0\n",
              "\n",
              "[10 rows x 10 columns]"
            ]
          },
          "metadata": {
            "tags": []
          },
          "execution_count": 13
        }
      ]
    },
    {
      "cell_type": "code",
      "metadata": {
        "id": "4yvJP8ZMxY9-",
        "colab_type": "code",
        "colab": {}
      },
      "source": [
        "from sklearn.model_selection import train_test_split\n",
        "train,test = train_test_split(data,test_size = 0.2, random_state = 0)"
      ],
      "execution_count": 0,
      "outputs": []
    },
    {
      "cell_type": "code",
      "metadata": {
        "id": "6ZGuDctbxgLi",
        "colab_type": "code",
        "outputId": "a974d81d-1429-4024-88aa-52740bbb51cf",
        "colab": {
          "base_uri": "https://localhost:8080/",
          "height": 173
        }
      },
      "source": [
        "# Activity vs Misc/No misc\n",
        "train[['Activity', 'Miscarriage/ No Miscarriage']].groupby(['Activity'], as_index=False).mean().sort_values(by='Miscarriage/ No Miscarriage', ascending=False)"
      ],
      "execution_count": 0,
      "outputs": [
        {
          "output_type": "execute_result",
          "data": {
            "text/html": [
              "<div>\n",
              "<style scoped>\n",
              "    .dataframe tbody tr th:only-of-type {\n",
              "        vertical-align: middle;\n",
              "    }\n",
              "\n",
              "    .dataframe tbody tr th {\n",
              "        vertical-align: top;\n",
              "    }\n",
              "\n",
              "    .dataframe thead th {\n",
              "        text-align: right;\n",
              "    }\n",
              "</style>\n",
              "<table border=\"1\" class=\"dataframe\">\n",
              "  <thead>\n",
              "    <tr style=\"text-align: right;\">\n",
              "      <th></th>\n",
              "      <th>Activity</th>\n",
              "      <th>Miscarriage/ No Miscarriage</th>\n",
              "    </tr>\n",
              "  </thead>\n",
              "  <tbody>\n",
              "    <tr>\n",
              "      <th>2</th>\n",
              "      <td>3</td>\n",
              "      <td>0.501980</td>\n",
              "    </tr>\n",
              "    <tr>\n",
              "      <th>3</th>\n",
              "      <td>4</td>\n",
              "      <td>0.499773</td>\n",
              "    </tr>\n",
              "    <tr>\n",
              "      <th>0</th>\n",
              "      <td>1</td>\n",
              "      <td>0.499259</td>\n",
              "    </tr>\n",
              "    <tr>\n",
              "      <th>1</th>\n",
              "      <td>2</td>\n",
              "      <td>0.498548</td>\n",
              "    </tr>\n",
              "  </tbody>\n",
              "</table>\n",
              "</div>"
            ],
            "text/plain": [
              "   Activity  Miscarriage/ No Miscarriage\n",
              "2         3                     0.501980\n",
              "3         4                     0.499773\n",
              "0         1                     0.499259\n",
              "1         2                     0.498548"
            ]
          },
          "metadata": {
            "tags": []
          },
          "execution_count": 15
        }
      ]
    },
    {
      "cell_type": "code",
      "metadata": {
        "id": "pjyPSrzRx1RP",
        "colab_type": "code",
        "outputId": "5d6109c8-b9cb-44e3-ed1e-74583ecd80b4",
        "colab": {
          "base_uri": "https://localhost:8080/",
          "height": 242
        }
      },
      "source": [
        "# Plotting\n",
        "g = sns.FacetGrid(train, col='Miscarriage/ No Miscarriage')\n",
        "g.map(plt.hist, 'Activity', bins=20)"
      ],
      "execution_count": 0,
      "outputs": [
        {
          "output_type": "execute_result",
          "data": {
            "text/plain": [
              "<seaborn.axisgrid.FacetGrid at 0x7f9683b7d748>"
            ]
          },
          "metadata": {
            "tags": []
          },
          "execution_count": 16
        },
        {
          "output_type": "display_data",
          "data": {
            "image/png": "[encoded data removed]",
            "text/plain": [
              "<Figure size 432x216 with 2 Axes>"
            ]
          },
          "metadata": {
            "tags": []
          }
        }
      ]
    },
    {
      "cell_type": "code",
      "metadata": {
        "id": "9A9jJksZcFYR",
        "colab_type": "code",
        "outputId": "ef2837bf-52de-4523-e5c9-bab8bce2a041",
        "colab": {
          "base_uri": "https://localhost:8080/",
          "height": 319
        }
      },
      "source": [
        "f = (\n",
        "         data.loc[:, ['Age', 'BMI', 'Activity', 'Location','temp','bpm','stress']]\n",
        "        .applymap(lambda v: int(v) if str else np.nan)\n",
        "        .dropna()\n",
        ").corr()\n",
        "\n",
        "sns.heatmap(f, annot=True)"
      ],
      "execution_count": 0,
      "outputs": [
        {
          "output_type": "execute_result",
          "data": {
            "text/plain": [
              "<matplotlib.axes._subplots.AxesSubplot at 0x7f7520445a20>"
            ]
          },
          "metadata": {
            "tags": []
          },
          "execution_count": 102
        },
        {
          "output_type": "display_data",
          "data": {
            "image/png": "[encoded data removed]",
            "text/plain": [
              "<Figure size 432x288 with 2 Axes>"
            ]
          },
          "metadata": {
            "tags": []
          }
        }
      ]
    },
    {
      "cell_type": "code",
      "metadata": {
        "id": "xWBxGrqIit3w",
        "colab_type": "code",
        "outputId": "ce453f8e-cae7-4ed5-ae5e-70a7de5dde2a",
        "colab": {
          "base_uri": "https://localhost:8080/",
          "height": 295
        }
      },
      "source": [
        "# get right number of cluster for K-means so we neeed to loop from 1 to 5 number of cluster and check score.\n",
        "#Elbow method is used to represnt that. \n",
        "Nc = range(1, 5)\n",
        "kmeans = [KMeans(n_clusters=i) for i in Nc]\n",
        "score = [kmeans[i].fit(data).score(data) for i in range(len(kmeans))]\n",
        "plt.plot(Nc,score)\n",
        "plt.xlabel('Number of Clusters')\n",
        "plt.ylabel('Score')\n",
        "plt.title('Elbow Curve')\n",
        "plt.show()\n",
        "\n",
        "#Found 3 Clusters"
      ],
      "execution_count": 0,
      "outputs": [
        {
          "output_type": "display_data",
          "data": {
            "image/png": "[encoded data removed]",
            "text/plain": [
              "<Figure size 432x288 with 1 Axes>"
            ]
          },
          "metadata": {
            "tags": []
          }
        }
      ]
    },
    {
      "cell_type": "code",
      "metadata": {
        "id": "w9OQOZ9qACJE",
        "colab_type": "code",
        "colab": {}
      },
      "source": [
        "#fitting data in Kmeans theorem.\n",
        "kmeans = KMeans(n_clusters=3, random_state=0).fit(data)"
      ],
      "execution_count": 0,
      "outputs": []
    },
    {
      "cell_type": "code",
      "metadata": {
        "id": "F5ER0jSUAo4n",
        "colab_type": "code",
        "colab": {}
      },
      "source": [
        "data['cluster'] = kmeans.labels_"
      ],
      "execution_count": 0,
      "outputs": []
    },
    {
      "cell_type": "code",
      "metadata": {
        "id": "ZeCHZWZdA37G",
        "colab_type": "code",
        "outputId": "55e0d784-a9a1-4924-b0ee-5168806856e4",
        "colab": {
          "base_uri": "https://localhost:8080/",
          "height": 221
        }
      },
      "source": [
        "data.loc[data.cluster == 0].count()"
      ],
      "execution_count": 0,
      "outputs": [
        {
          "output_type": "execute_result",
          "data": {
            "text/plain": [
              "Age                            408180\n",
              "BMI                            408180\n",
              "Nmisc                          408180\n",
              "Activity                       408180\n",
              "Location                       408180\n",
              "temp                           408180\n",
              "bpm                            408180\n",
              "stress                         408180\n",
              "bp                             408180\n",
              "Miscarriage/ No Miscarriage    408180\n",
              "cluster                        408180\n",
              "dtype: int64"
            ]
          },
          "metadata": {
            "tags": []
          },
          "execution_count": 64
        }
      ]
    },
    {
      "cell_type": "code",
      "metadata": {
        "id": "MPIVBFzCBfFR",
        "colab_type": "code",
        "colab": {}
      },
      "source": [
        "sns.swarmplot(data.cluster,data.Activity)"
      ],
      "execution_count": 0,
      "outputs": []
    },
    {
      "cell_type": "code",
      "metadata": {
        "id": "XYOpleIncmTC",
        "colab_type": "code",
        "colab": {}
      },
      "source": [
        "# Parameters\n",
        "X_data = np.array(train.drop(['Miscarriage/ No Miscarriage'], 1).astype(float))\n",
        "y_data = np.array(train['Miscarriage/ No Miscarriage'])\n",
        "\n",
        "num_steps = 120 # Total steps to train\n",
        "k = 3 # The number of clusters\n",
        "num_features = 9\n"
      ],
      "execution_count": 0,
      "outputs": []
    },
    {
      "cell_type": "code",
      "metadata": {
        "id": "GqCPhGGdcqUZ",
        "colab_type": "code",
        "outputId": "a2832b0c-2476-4228-8388-24fcd867b3fe",
        "colab": {
          "base_uri": "https://localhost:8080/",
          "height": 51
        }
      },
      "source": [
        "# Input images\n",
        "X = tf.placeholder(tf.float32, shape=[None, num_features]) # feed arbitrary number of X's \n",
        "Y = tf.placeholder(tf.int32, shape=[None,]) # feed Y's corresponding to the X\n",
        "print(X)\n",
        "print(Y)"
      ],
      "execution_count": 0,
      "outputs": [
        {
          "output_type": "stream",
          "text": [
            "Tensor(\"Placeholder_8:0\", shape=(?, 9), dtype=float32)\n",
            "Tensor(\"Placeholder_9:0\", shape=(?,), dtype=int32)\n"
          ],
          "name": "stdout"
        }
      ]
    },
    {
      "cell_type": "code",
      "metadata": {
        "id": "Gi4z1cGkc432",
        "colab_type": "code",
        "colab": {}
      },
      "source": [
        "from tensorflow.contrib.factorization import KMeans\n",
        "# K-Means Parameters\n",
        "kmeans = KMeans(inputs=X, num_clusters=k, distance_metric='cosine',\n",
        "                use_mini_batch=True)\n",
        "\n",
        "# Build KMeans graph\n",
        "training_graph = kmeans.training_graph()\n",
        "\n",
        "if len(training_graph) > 6: # Tensorflow 1.4+\n",
        "    (all_scores, cluster_idx, scores, cluster_centers_initialized,\n",
        "     cluster_centers_var, init_op, train_op) = training_graph\n",
        "else:\n",
        "    (all_scores, cluster_idx, scores, cluster_centers_initialized,\n",
        "     init_op, train_op) = training_graph\n",
        "\n",
        "cluster_idx = cluster_idx[0] # fix for cluster_idx being a tuple\n",
        "avg_distance = tf.reduce_mean(scores)\n",
        "\n",
        "# Initialize the variables (i.e. assign their default value)\n",
        "init_vars = tf.global_variables_initializer()"
      ],
      "execution_count": 0,
      "outputs": []
    },
    {
      "cell_type": "code",
      "metadata": {
        "id": "ILwWvMLcd7pn",
        "colab_type": "code",
        "outputId": "1e432b3b-4e97-4eb2-a6ba-7055589f37d1",
        "colab": {
          "base_uri": "https://localhost:8080/",
          "height": 238
        }
      },
      "source": [
        "\n",
        "# Start TensorFlow session\n",
        "sess = tf.Session()\n",
        "\n",
        "# Run the initializer\n",
        "sess.run(init_vars, feed_dict={X: X_data})\n",
        "sess.run(init_op, feed_dict={X: X_data})\n",
        "\n",
        "# Training\n",
        "for i in range(1, num_steps + 1):\n",
        "    _, d, idx = sess.run([train_op, avg_distance, cluster_idx],\n",
        "                         feed_dict={X: X_data})\n",
        "    if i % 10 == 0 or i == 1:\n",
        "        print(\"Step %i, Avg Distance: %f\" % (i, d))\n",
        "\n",
        "# Assign a label to each centroid\n",
        "# Count total number of labels per centroid, using the label of each training\n",
        "# sample to their closest centroid (given by 'idx')\n",
        "counts = np.zeros(shape=(k, 2))\n",
        "for i in range(len(idx)):\n",
        "    counts[idx[i]] += 2\n",
        "# Assign the most frequent label to the centroid\n",
        "labels_map = [np.argmax(c) for c in counts]\n",
        "labels_map = tf.convert_to_tensor(labels_map)"
      ],
      "execution_count": 0,
      "outputs": [
        {
          "output_type": "stream",
          "text": [
            "Step 1, Avg Distance: 0.003235\n",
            "Step 10, Avg Distance: 0.002601\n",
            "Step 20, Avg Distance: 0.002589\n",
            "Step 30, Avg Distance: 0.002584\n",
            "Step 40, Avg Distance: 0.002582\n",
            "Step 50, Avg Distance: 0.002580\n",
            "Step 60, Avg Distance: 0.002579\n",
            "Step 70, Avg Distance: 0.002578\n",
            "Step 80, Avg Distance: 0.002577\n",
            "Step 90, Avg Distance: 0.002576\n",
            "Step 100, Avg Distance: 0.002575\n",
            "Step 110, Avg Distance: 0.002574\n",
            "Step 120, Avg Distance: 0.002573\n"
          ],
          "name": "stdout"
        }
      ]
    },
    {
      "cell_type": "code",
      "metadata": {
        "id": "kL8a0KA_dBn0",
        "colab_type": "code",
        "outputId": "ec1e3d26-a96e-403f-e4d4-2ad2b64cf9c0",
        "colab": {
          "base_uri": "https://localhost:8080/",
          "height": 51
        }
      },
      "source": [
        "\n",
        "# Evaluation ops\n",
        "# Lookup: centroid_id -> label\n",
        "cluster_label = tf.nn.embedding_lookup(labels_map, cluster_idx)\n",
        "print(cluster_label)\n",
        "# Compute accuracy\n",
        "correct_prediction = tf.equal(cluster_label, tf.cast(Y, tf.int32))\n",
        "accuracy_op = tf.reduce_mean(tf.cast(correct_prediction, tf.float32))\n",
        "\n",
        "# # Test Model\n",
        "test_x, test_y = np.array(test.drop(['Miscarriage/ No Miscarriage'], 1).astype(float)),np.array(test['Miscarriage/ No Miscarriage'])\n",
        "print(\"Test Accuracy:\", sess.run(accuracy_op, feed_dict={X: test_x, Y: test_y}))"
      ],
      "execution_count": 0,
      "outputs": [
        {
          "output_type": "stream",
          "text": [
            "Tensor(\"embedding_lookup_2/Identity:0\", dtype=int32)\n",
            "Test Accuracy: 0.499145\n"
          ],
          "name": "stdout"
        }
      ]
    }
  ]
}