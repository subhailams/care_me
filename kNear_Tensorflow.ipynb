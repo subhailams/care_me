{
  "nbformat": 4,
  "nbformat_minor": 0,
  "metadata": {
    "colab": {
      "name": "kNear_Tensorflow.ipynb",
      "provenance": [],
      "collapsed_sections": []
    },
    "kernelspec": {
      "name": "python3",
      "display_name": "Python 3"
    }
  },
  "cells": [
    {
      "cell_type": "code",
      "metadata": {
        "id": "GSquT7CJoEju",
        "colab_type": "code",
        "outputId": "1019bf8f-0abf-4047-8bb5-76f259160e17",
        "colab": {
          "base_uri": "https://localhost:8080/",
          "height": 63
        }
      },
      "source": [
        "import numpy as np\n",
        "import tensorflow as tf\n",
        "import pandas as pd"
      ],
      "execution_count": 0,
      "outputs": [
        {
          "output_type": "display_data",
          "data": {
            "text/html": [
              "<p style=\"color: red;\">\n",
              "The default version of TensorFlow in Colab will soon switch to TensorFlow 2.x.<br>\n",
              "We recommend you <a href=\"https://www.tensorflow.org/guide/migrate\" target=\"_blank\">upgrade</a> now \n",
              "or ensure your notebook will continue to use TensorFlow 1.x via the <code>%tensorflow_version 1.x</code> magic:\n",
              "<a href=\"https://colab.research.google.com/notebooks/tensorflow_version.ipynb\" target=\"_blank\">more info</a>.</p>\n"
            ],
            "text/plain": [
              "<IPython.core.display.HTML object>"
            ]
          },
          "metadata": {
            "tags": []
          }
        }
      ]
    },
    {
      "cell_type": "code",
      "metadata": {
        "id": "jyCK3BN1oOqD",
        "colab_type": "code",
        "outputId": "e750d882-43bc-4485-a28e-66b11bc51eb2",
        "colab": {
          "base_uri": "https://localhost:8080/",
          "height": 122
        }
      },
      "source": [
        "from google.colab import drive\n",
        "drive.mount('/content/drive')"
      ],
      "execution_count": 0,
      "outputs": [
        {
          "output_type": "stream",
          "text": [
            "Go to this URL in a browser: https://accounts.google.com/o/oauth2/auth?client_id=947318989803-6bn6qk8qdgf4n4g3pfee6491hc0brc4i.apps.googleusercontent.com&redirect_uri=urn%3Aietf%3Awg%3Aoauth%3A2.0%3Aoob&scope=email%20https%3A%2F%2Fwww.googleapis.com%2Fauth%2Fdocs.test%20https%3A%2F%2Fwww.googleapis.com%2Fauth%2Fdrive%20https%3A%2F%2Fwww.googleapis.com%2Fauth%2Fdrive.photos.readonly%20https%3A%2F%2Fwww.googleapis.com%2Fauth%2Fpeopleapi.readonly&response_type=code\n",
            "\n",
            "Enter your authorization code:\n",
            "··········\n",
            "Mounted at /content/drive\n"
          ],
          "name": "stdout"
        }
      ]
    },
    {
      "cell_type": "code",
      "metadata": {
        "id": "tGxWUEYaoY-s",
        "colab_type": "code",
        "outputId": "19beca21-b00e-4438-c609-cb13e1b2da91",
        "colab": {
          "base_uri": "https://localhost:8080/",
          "height": 255
        }
      },
      "source": [
        "data = pd.read_csv(\"drive/My Drive/abortion1m.csv\")\n",
        "print(data)"
      ],
      "execution_count": 0,
      "outputs": [
        {
          "output_type": "stream",
          "text": [
            "        Age       BMI  Nmisc  ...  stress  bp  Miscarriage/ No Miscarriage\n",
            "0        25  19.84127      2  ...       0   2                            1\n",
            "1        25  19.84127      2  ...       0   2                            0\n",
            "2        25  19.84127      2  ...       0   2                            1\n",
            "3        25  19.84127      2  ...       0   2                            0\n",
            "4        25  19.84127      2  ...       0   2                            1\n",
            "...     ...       ...    ...  ...     ...  ..                          ...\n",
            "999995   25  19.84127      2  ...       0   1                            0\n",
            "999996   25  19.84127      2  ...       0   1                            1\n",
            "999997   25  19.84127      2  ...       0   1                            1\n",
            "999998   25  19.84127      2  ...       0   1                            1\n",
            "999999   25  19.84127      2  ...       0   1                            1\n",
            "\n",
            "[1000000 rows x 10 columns]\n"
          ],
          "name": "stdout"
        }
      ]
    },
    {
      "cell_type": "code",
      "metadata": {
        "id": "rsq0tQh8pRRn",
        "colab_type": "code",
        "outputId": "7d8b5c5c-ca3f-4fcc-90c3-8d12663adf1c",
        "colab": {
          "base_uri": "https://localhost:8080/",
          "height": 255
        }
      },
      "source": [
        "from sklearn.model_selection import train_test_split\n",
        "train,test = train_test_split(data,test_size = 0.1, random_state = 0)\n",
        "print(test)"
      ],
      "execution_count": 0,
      "outputs": [
        {
          "output_type": "stream",
          "text": [
            "        Age       BMI  Nmisc  ...  stress  bp  Miscarriage/ No Miscarriage\n",
            "157105   25  19.84127      2  ...       0   2                            0\n",
            "374554   25  19.84127      2  ...       1   0                            1\n",
            "688694   25  19.84127      2  ...       0   2                            1\n",
            "265381   25  19.84127      2  ...       3   3                            0\n",
            "955415   25  19.84127      2  ...       0   2                            0\n",
            "...     ...       ...    ...  ...     ...  ..                          ...\n",
            "838426   26  23.90374      2  ...       0   2                            1\n",
            "735384   25  19.84127      2  ...       0   2                            0\n",
            "904801   25  19.84127      2  ...       3   0                            0\n",
            "633293   25  19.84127      2  ...       1   2                            1\n",
            "871744   25  19.84127      2  ...       1   2                            0\n",
            "\n",
            "[100000 rows x 10 columns]\n"
          ],
          "name": "stdout"
        }
      ]
    },
    {
      "cell_type": "code",
      "metadata": {
        "id": "e0AqTPn7pWgZ",
        "colab_type": "code",
        "colab": {}
      },
      "source": [
        "# Parameters\n",
        "X_train = np.array(train.drop(['Miscarriage/ No Miscarriage'], 1).astype(float))\n",
        "Y_train = np.array(train['Miscarriage/ No Miscarriage'])\n",
        "\n",
        "# # Test Model\n",
        "test_x, test_y = np.array(test.drop(['Miscarriage/ No Miscarriage'], 1).astype(float)),np.array(test['Miscarriage/ No Miscarriage'])\n"
      ],
      "execution_count": 0,
      "outputs": []
    },
    {
      "cell_type": "code",
      "metadata": {
        "id": "7fhEQd1joeRz",
        "colab_type": "code",
        "outputId": "3f197b7e-32ce-410f-d14d-0c8a111d3e3c",
        "colab": {
          "base_uri": "https://localhost:8080/",
          "height": 51
        }
      },
      "source": [
        "# Input images\n",
        "xtr = tf.placeholder(tf.float32, shape=[None, 9]) # feed arbitrary number of X's \n",
        "xte = tf.placeholder(tf.float32, shape=[9]) # feed Y's corresponding to the X\n",
        "print(xtr)\n",
        "print(xte)"
      ],
      "execution_count": 0,
      "outputs": [
        {
          "output_type": "stream",
          "text": [
            "Tensor(\"Placeholder:0\", shape=(?, 9), dtype=float32)\n",
            "Tensor(\"Placeholder_1:0\", shape=(9,), dtype=float32)\n"
          ],
          "name": "stdout"
        }
      ]
    },
    {
      "cell_type": "code",
      "metadata": {
        "id": "j2RKFGG4oqva",
        "colab_type": "code",
        "colab": {}
      },
      "source": [
        "# Nearest Neighbor calculation using L1 Distance\n",
        "# Calculate L1 Distance\n",
        "distance = tf.reduce_sum(tf.abs(tf.add(xtr, tf.negative(xte))), reduction_indices=1)\n",
        "# Prediction: Get min distance index (Nearest neighbor)\n",
        "pred = tf.arg_min(distance, 0)\n",
        "accuracy = 0\n",
        "\n",
        "\n",
        "# Initialize the variables (i.e. assign their default value)\n",
        "init = tf.global_variables_initializer()\n"
      ],
      "execution_count": 0,
      "outputs": []
    },
    {
      "cell_type": "code",
      "metadata": {
        "id": "7Z5yd1mYpAIL",
        "colab_type": "code",
        "outputId": "3405798b-ecbe-4314-d9b6-c2c1f4942fb2",
        "colab": {
          "base_uri": "https://localhost:8080/",
          "height": 1000
        }
      },
      "source": [
        "\n",
        "# Start training\n",
        "with tf.Session() as sess:\n",
        "    sess.run(init)\n",
        "    \n",
        "    # loop over test data\n",
        "    for i in range(len(test_x)):\n",
        "        # Get nearest neighbor\n",
        "        nn_index = sess.run(pred, feed_dict={xtr: X_train, xte: test_x[i, :]})\n",
        "        # Get nearest neighbor class label and compare it to its true label\n",
        "        print(\"Test\", i, \"Prediction:\", Y_train[nn_index], \"True Class:\", test_y[i])\n",
        "        # Calculate accuracy\n",
        "        if np.argmax(Y_train[nn_index]) == np.argmax(test_y[i]):\n",
        "            accuracy += 1./len(test_x)\n",
        "    print(\"Done!\")\n",
        "    print(\"Accuracy:\", accuracy)"
      ],
      "execution_count": 0,
      "outputs": [
        {
          "output_type": "stream",
          "text": [
            "Test 0 Prediction: 0 True Class: 0\n",
            "Test 1 Prediction: 0 True Class: 1\n",
            "Test 2 Prediction: 1 True Class: 1\n",
            "Test 3 Prediction: 1 True Class: 0\n",
            "Test 4 Prediction: 0 True Class: 0\n",
            "Test 5 Prediction: 1 True Class: 0\n",
            "Test 6 Prediction: 0 True Class: 1\n",
            "Test 7 Prediction: 0 True Class: 0\n",
            "Test 8 Prediction: 0 True Class: 0\n",
            "Test 9 Prediction: 0 True Class: 1\n",
            "Test 10 Prediction: 0 True Class: 0\n",
            "Test 11 Prediction: 1 True Class: 0\n",
            "Test 12 Prediction: 1 True Class: 1\n",
            "Test 13 Prediction: 0 True Class: 1\n",
            "Test 14 Prediction: 1 True Class: 0\n",
            "Test 15 Prediction: 1 True Class: 0\n",
            "Test 16 Prediction: 1 True Class: 1\n",
            "Test 17 Prediction: 0 True Class: 1\n",
            "Test 18 Prediction: 0 True Class: 1\n",
            "Test 19 Prediction: 0 True Class: 0\n",
            "Test 20 Prediction: 1 True Class: 0\n",
            "Test 21 Prediction: 1 True Class: 1\n",
            "Test 22 Prediction: 0 True Class: 0\n",
            "Test 23 Prediction: 0 True Class: 1\n",
            "Test 24 Prediction: 1 True Class: 1\n",
            "Test 25 Prediction: 0 True Class: 1\n",
            "Test 26 Prediction: 1 True Class: 0\n",
            "Test 27 Prediction: 1 True Class: 0\n",
            "Test 28 Prediction: 1 True Class: 0\n",
            "Test 29 Prediction: 0 True Class: 0\n",
            "Test 30 Prediction: 0 True Class: 1\n",
            "Test 31 Prediction: 0 True Class: 0\n",
            "Test 32 Prediction: 1 True Class: 1\n",
            "Test 33 Prediction: 0 True Class: 0\n",
            "Test 34 Prediction: 0 True Class: 1\n",
            "Test 35 Prediction: 0 True Class: 0\n",
            "Test 36 Prediction: 0 True Class: 1\n",
            "Test 37 Prediction: 0 True Class: 1\n",
            "Test 38 Prediction: 1 True Class: 1\n",
            "Test 39 Prediction: 0 True Class: 1\n",
            "Test 40 Prediction: 1 True Class: 0\n",
            "Test 41 Prediction: 0 True Class: 1\n",
            "Test 42 Prediction: 0 True Class: 1\n",
            "Test 43 Prediction: 1 True Class: 1\n",
            "Test 44 Prediction: 1 True Class: 1\n",
            "Test 45 Prediction: 0 True Class: 1\n",
            "Test 46 Prediction: 1 True Class: 1\n",
            "Test 47 Prediction: 1 True Class: 0\n",
            "Test 48 Prediction: 0 True Class: 0\n",
            "Test 49 Prediction: 0 True Class: 1\n",
            "Test 50 Prediction: 0 True Class: 0\n",
            "Test 51 Prediction: 1 True Class: 1\n",
            "Test 52 Prediction: 0 True Class: 0\n",
            "Test 53 Prediction: 0 True Class: 1\n",
            "Test 54 Prediction: 0 True Class: 0\n",
            "Test 55 Prediction: 0 True Class: 1\n",
            "Test 56 Prediction: 0 True Class: 1\n",
            "Test 57 Prediction: 1 True Class: 1\n",
            "Test 58 Prediction: 0 True Class: 1\n",
            "Test 59 Prediction: 0 True Class: 1\n",
            "Test 60 Prediction: 0 True Class: 1\n",
            "Test 61 Prediction: 0 True Class: 1\n",
            "Test 62 Prediction: 1 True Class: 1\n",
            "Test 63 Prediction: 0 True Class: 0\n",
            "Test 64 Prediction: 0 True Class: 1\n",
            "Test 65 Prediction: 0 True Class: 1\n",
            "Test 66 Prediction: 1 True Class: 1\n",
            "Test 67 Prediction: 1 True Class: 1\n",
            "Test 68 Prediction: 0 True Class: 0\n",
            "Test 69 Prediction: 0 True Class: 0\n",
            "Test 70 Prediction: 1 True Class: 1\n",
            "Test 71 Prediction: 1 True Class: 0\n",
            "Test 72 Prediction: 0 True Class: 1\n",
            "Test 73 Prediction: 0 True Class: 1\n",
            "Test 74 Prediction: 1 True Class: 1\n",
            "Test 75 Prediction: 0 True Class: 1\n",
            "Test 76 Prediction: 1 True Class: 0\n",
            "Test 77 Prediction: 1 True Class: 0\n",
            "Test 78 Prediction: 1 True Class: 1\n",
            "Test 79 Prediction: 0 True Class: 1\n",
            "Test 80 Prediction: 0 True Class: 1\n",
            "Test 81 Prediction: 1 True Class: 0\n",
            "Test 82 Prediction: 1 True Class: 1\n",
            "Test 83 Prediction: 0 True Class: 0\n",
            "Test 84 Prediction: 1 True Class: 1\n",
            "Test 85 Prediction: 1 True Class: 1\n",
            "Test 86 Prediction: 0 True Class: 1\n",
            "Test 87 Prediction: 0 True Class: 0\n",
            "Test 88 Prediction: 1 True Class: 1\n",
            "Test 89 Prediction: 0 True Class: 1\n",
            "Test 90 Prediction: 1 True Class: 0\n",
            "Test 91 Prediction: 0 True Class: 0\n",
            "Test 92 Prediction: 1 True Class: 1\n",
            "Test 93 Prediction: 0 True Class: 0\n",
            "Test 94 Prediction: 1 True Class: 1\n",
            "Test 95 Prediction: 1 True Class: 1\n",
            "Test 96 Prediction: 0 True Class: 1\n",
            "Test 97 Prediction: 1 True Class: 1\n",
            "Test 98 Prediction: 1 True Class: 0\n",
            "Test 99 Prediction: 0 True Class: 0\n",
            "Test 100 Prediction: 1 True Class: 0\n",
            "Test 101 Prediction: 0 True Class: 1\n",
            "Test 102 Prediction: 0 True Class: 1\n",
            "Test 103 Prediction: 0 True Class: 1\n",
            "Test 104 Prediction: 1 True Class: 1\n",
            "Test 105 Prediction: 0 True Class: 1\n",
            "Test 106 Prediction: 0 True Class: 1\n",
            "Test 107 Prediction: 0 True Class: 0\n",
            "Test 108 Prediction: 0 True Class: 0\n",
            "Test 109 Prediction: 0 True Class: 0\n",
            "Test 110 Prediction: 0 True Class: 1\n",
            "Test 111 Prediction: 0 True Class: 1\n",
            "Test 112 Prediction: 1 True Class: 0\n",
            "Test 113 Prediction: 0 True Class: 0\n",
            "Test 114 Prediction: 1 True Class: 0\n",
            "Test 115 Prediction: 0 True Class: 1\n",
            "Test 116 Prediction: 1 True Class: 0\n",
            "Test 117 Prediction: 1 True Class: 0\n",
            "Test 118 Prediction: 0 True Class: 0\n",
            "Test 119 Prediction: 0 True Class: 1\n",
            "Test 120 Prediction: 0 True Class: 0\n",
            "Test 121 Prediction: 1 True Class: 0\n",
            "Test 122 Prediction: 0 True Class: 1\n"
          ],
          "name": "stdout"
        },
        {
          "output_type": "error",
          "ename": "KeyboardInterrupt",
          "evalue": "ignored",
          "traceback": [
            "\u001b[0;31m---------------------------------------------------------------------------\u001b[0m",
            "\u001b[0;31mKeyboardInterrupt\u001b[0m                         Traceback (most recent call last)",
            "\u001b[0;32m<ipython-input-11-ba34252d8db5>\u001b[0m in \u001b[0;36m<module>\u001b[0;34m()\u001b[0m\n\u001b[1;32m      5\u001b[0m     \u001b[0;32mfor\u001b[0m \u001b[0mi\u001b[0m \u001b[0;32min\u001b[0m \u001b[0mrange\u001b[0m\u001b[0;34m(\u001b[0m\u001b[0mlen\u001b[0m\u001b[0;34m(\u001b[0m\u001b[0mtest_x\u001b[0m\u001b[0;34m)\u001b[0m\u001b[0;34m)\u001b[0m\u001b[0;34m:\u001b[0m\u001b[0;34m\u001b[0m\u001b[0;34m\u001b[0m\u001b[0m\n\u001b[1;32m      6\u001b[0m         \u001b[0;31m# Get nearest neighbor\u001b[0m\u001b[0;34m\u001b[0m\u001b[0;34m\u001b[0m\u001b[0;34m\u001b[0m\u001b[0m\n\u001b[0;32m----> 7\u001b[0;31m         \u001b[0mnn_index\u001b[0m \u001b[0;34m=\u001b[0m \u001b[0msess\u001b[0m\u001b[0;34m.\u001b[0m\u001b[0mrun\u001b[0m\u001b[0;34m(\u001b[0m\u001b[0mpred\u001b[0m\u001b[0;34m,\u001b[0m \u001b[0mfeed_dict\u001b[0m\u001b[0;34m=\u001b[0m\u001b[0;34m{\u001b[0m\u001b[0mxtr\u001b[0m\u001b[0;34m:\u001b[0m \u001b[0mX_train\u001b[0m\u001b[0;34m,\u001b[0m \u001b[0mxte\u001b[0m\u001b[0;34m:\u001b[0m \u001b[0mtest_x\u001b[0m\u001b[0;34m[\u001b[0m\u001b[0mi\u001b[0m\u001b[0;34m,\u001b[0m \u001b[0;34m:\u001b[0m\u001b[0;34m]\u001b[0m\u001b[0;34m}\u001b[0m\u001b[0;34m)\u001b[0m\u001b[0;34m\u001b[0m\u001b[0;34m\u001b[0m\u001b[0m\n\u001b[0m\u001b[1;32m      8\u001b[0m         \u001b[0;31m# Get nearest neighbor class label and compare it to its true label\u001b[0m\u001b[0;34m\u001b[0m\u001b[0;34m\u001b[0m\u001b[0;34m\u001b[0m\u001b[0m\n\u001b[1;32m      9\u001b[0m         \u001b[0mprint\u001b[0m\u001b[0;34m(\u001b[0m\u001b[0;34m\"Test\"\u001b[0m\u001b[0;34m,\u001b[0m \u001b[0mi\u001b[0m\u001b[0;34m,\u001b[0m \u001b[0;34m\"Prediction:\"\u001b[0m\u001b[0;34m,\u001b[0m \u001b[0mY_train\u001b[0m\u001b[0;34m[\u001b[0m\u001b[0mnn_index\u001b[0m\u001b[0;34m]\u001b[0m\u001b[0;34m,\u001b[0m \u001b[0;34m\"True Class:\"\u001b[0m\u001b[0;34m,\u001b[0m \u001b[0mtest_y\u001b[0m\u001b[0;34m[\u001b[0m\u001b[0mi\u001b[0m\u001b[0;34m]\u001b[0m\u001b[0;34m)\u001b[0m\u001b[0;34m\u001b[0m\u001b[0;34m\u001b[0m\u001b[0m\n",
            "\u001b[0;32m/usr/local/lib/python3.6/dist-packages/tensorflow_core/python/client/session.py\u001b[0m in \u001b[0;36mrun\u001b[0;34m(self, fetches, feed_dict, options, run_metadata)\u001b[0m\n\u001b[1;32m    954\u001b[0m     \u001b[0;32mtry\u001b[0m\u001b[0;34m:\u001b[0m\u001b[0;34m\u001b[0m\u001b[0;34m\u001b[0m\u001b[0m\n\u001b[1;32m    955\u001b[0m       result = self._run(None, fetches, feed_dict, options_ptr,\n\u001b[0;32m--> 956\u001b[0;31m                          run_metadata_ptr)\n\u001b[0m\u001b[1;32m    957\u001b[0m       \u001b[0;32mif\u001b[0m \u001b[0mrun_metadata\u001b[0m\u001b[0;34m:\u001b[0m\u001b[0;34m\u001b[0m\u001b[0;34m\u001b[0m\u001b[0m\n\u001b[1;32m    958\u001b[0m         \u001b[0mproto_data\u001b[0m \u001b[0;34m=\u001b[0m \u001b[0mtf_session\u001b[0m\u001b[0;34m.\u001b[0m\u001b[0mTF_GetBuffer\u001b[0m\u001b[0;34m(\u001b[0m\u001b[0mrun_metadata_ptr\u001b[0m\u001b[0;34m)\u001b[0m\u001b[0;34m\u001b[0m\u001b[0;34m\u001b[0m\u001b[0m\n",
            "\u001b[0;32m/usr/local/lib/python3.6/dist-packages/tensorflow_core/python/client/session.py\u001b[0m in \u001b[0;36m_run\u001b[0;34m(self, handle, fetches, feed_dict, options, run_metadata)\u001b[0m\n\u001b[1;32m   1178\u001b[0m     \u001b[0;32mif\u001b[0m \u001b[0mfinal_fetches\u001b[0m \u001b[0;32mor\u001b[0m \u001b[0mfinal_targets\u001b[0m \u001b[0;32mor\u001b[0m \u001b[0;34m(\u001b[0m\u001b[0mhandle\u001b[0m \u001b[0;32mand\u001b[0m \u001b[0mfeed_dict_tensor\u001b[0m\u001b[0;34m)\u001b[0m\u001b[0;34m:\u001b[0m\u001b[0;34m\u001b[0m\u001b[0;34m\u001b[0m\u001b[0m\n\u001b[1;32m   1179\u001b[0m       results = self._do_run(handle, final_targets, final_fetches,\n\u001b[0;32m-> 1180\u001b[0;31m                              feed_dict_tensor, options, run_metadata)\n\u001b[0m\u001b[1;32m   1181\u001b[0m     \u001b[0;32melse\u001b[0m\u001b[0;34m:\u001b[0m\u001b[0;34m\u001b[0m\u001b[0;34m\u001b[0m\u001b[0m\n\u001b[1;32m   1182\u001b[0m       \u001b[0mresults\u001b[0m \u001b[0;34m=\u001b[0m \u001b[0;34m[\u001b[0m\u001b[0;34m]\u001b[0m\u001b[0;34m\u001b[0m\u001b[0;34m\u001b[0m\u001b[0m\n",
            "\u001b[0;32m/usr/local/lib/python3.6/dist-packages/tensorflow_core/python/client/session.py\u001b[0m in \u001b[0;36m_do_run\u001b[0;34m(self, handle, target_list, fetch_list, feed_dict, options, run_metadata)\u001b[0m\n\u001b[1;32m   1357\u001b[0m     \u001b[0;32mif\u001b[0m \u001b[0mhandle\u001b[0m \u001b[0;32mis\u001b[0m \u001b[0;32mNone\u001b[0m\u001b[0;34m:\u001b[0m\u001b[0;34m\u001b[0m\u001b[0;34m\u001b[0m\u001b[0m\n\u001b[1;32m   1358\u001b[0m       return self._do_call(_run_fn, feeds, fetches, targets, options,\n\u001b[0;32m-> 1359\u001b[0;31m                            run_metadata)\n\u001b[0m\u001b[1;32m   1360\u001b[0m     \u001b[0;32melse\u001b[0m\u001b[0;34m:\u001b[0m\u001b[0;34m\u001b[0m\u001b[0;34m\u001b[0m\u001b[0m\n\u001b[1;32m   1361\u001b[0m       \u001b[0;32mreturn\u001b[0m \u001b[0mself\u001b[0m\u001b[0;34m.\u001b[0m\u001b[0m_do_call\u001b[0m\u001b[0;34m(\u001b[0m\u001b[0m_prun_fn\u001b[0m\u001b[0;34m,\u001b[0m \u001b[0mhandle\u001b[0m\u001b[0;34m,\u001b[0m \u001b[0mfeeds\u001b[0m\u001b[0;34m,\u001b[0m \u001b[0mfetches\u001b[0m\u001b[0;34m)\u001b[0m\u001b[0;34m\u001b[0m\u001b[0;34m\u001b[0m\u001b[0m\n",
            "\u001b[0;32m/usr/local/lib/python3.6/dist-packages/tensorflow_core/python/client/session.py\u001b[0m in \u001b[0;36m_do_call\u001b[0;34m(self, fn, *args)\u001b[0m\n\u001b[1;32m   1363\u001b[0m   \u001b[0;32mdef\u001b[0m \u001b[0m_do_call\u001b[0m\u001b[0;34m(\u001b[0m\u001b[0mself\u001b[0m\u001b[0;34m,\u001b[0m \u001b[0mfn\u001b[0m\u001b[0;34m,\u001b[0m \u001b[0;34m*\u001b[0m\u001b[0margs\u001b[0m\u001b[0;34m)\u001b[0m\u001b[0;34m:\u001b[0m\u001b[0;34m\u001b[0m\u001b[0;34m\u001b[0m\u001b[0m\n\u001b[1;32m   1364\u001b[0m     \u001b[0;32mtry\u001b[0m\u001b[0;34m:\u001b[0m\u001b[0;34m\u001b[0m\u001b[0;34m\u001b[0m\u001b[0m\n\u001b[0;32m-> 1365\u001b[0;31m       \u001b[0;32mreturn\u001b[0m \u001b[0mfn\u001b[0m\u001b[0;34m(\u001b[0m\u001b[0;34m*\u001b[0m\u001b[0margs\u001b[0m\u001b[0;34m)\u001b[0m\u001b[0;34m\u001b[0m\u001b[0;34m\u001b[0m\u001b[0m\n\u001b[0m\u001b[1;32m   1366\u001b[0m     \u001b[0;32mexcept\u001b[0m \u001b[0merrors\u001b[0m\u001b[0;34m.\u001b[0m\u001b[0mOpError\u001b[0m \u001b[0;32mas\u001b[0m \u001b[0me\u001b[0m\u001b[0;34m:\u001b[0m\u001b[0;34m\u001b[0m\u001b[0;34m\u001b[0m\u001b[0m\n\u001b[1;32m   1367\u001b[0m       \u001b[0mmessage\u001b[0m \u001b[0;34m=\u001b[0m \u001b[0mcompat\u001b[0m\u001b[0;34m.\u001b[0m\u001b[0mas_text\u001b[0m\u001b[0;34m(\u001b[0m\u001b[0me\u001b[0m\u001b[0;34m.\u001b[0m\u001b[0mmessage\u001b[0m\u001b[0;34m)\u001b[0m\u001b[0;34m\u001b[0m\u001b[0;34m\u001b[0m\u001b[0m\n",
            "\u001b[0;32m/usr/local/lib/python3.6/dist-packages/tensorflow_core/python/client/session.py\u001b[0m in \u001b[0;36m_run_fn\u001b[0;34m(feed_dict, fetch_list, target_list, options, run_metadata)\u001b[0m\n\u001b[1;32m   1348\u001b[0m       \u001b[0mself\u001b[0m\u001b[0;34m.\u001b[0m\u001b[0m_extend_graph\u001b[0m\u001b[0;34m(\u001b[0m\u001b[0;34m)\u001b[0m\u001b[0;34m\u001b[0m\u001b[0;34m\u001b[0m\u001b[0m\n\u001b[1;32m   1349\u001b[0m       return self._call_tf_sessionrun(options, feed_dict, fetch_list,\n\u001b[0;32m-> 1350\u001b[0;31m                                       target_list, run_metadata)\n\u001b[0m\u001b[1;32m   1351\u001b[0m \u001b[0;34m\u001b[0m\u001b[0m\n\u001b[1;32m   1352\u001b[0m     \u001b[0;32mdef\u001b[0m \u001b[0m_prun_fn\u001b[0m\u001b[0;34m(\u001b[0m\u001b[0mhandle\u001b[0m\u001b[0;34m,\u001b[0m \u001b[0mfeed_dict\u001b[0m\u001b[0;34m,\u001b[0m \u001b[0mfetch_list\u001b[0m\u001b[0;34m)\u001b[0m\u001b[0;34m:\u001b[0m\u001b[0;34m\u001b[0m\u001b[0;34m\u001b[0m\u001b[0m\n",
            "\u001b[0;32m/usr/local/lib/python3.6/dist-packages/tensorflow_core/python/client/session.py\u001b[0m in \u001b[0;36m_call_tf_sessionrun\u001b[0;34m(self, options, feed_dict, fetch_list, target_list, run_metadata)\u001b[0m\n\u001b[1;32m   1441\u001b[0m     return tf_session.TF_SessionRun_wrapper(self._session, options, feed_dict,\n\u001b[1;32m   1442\u001b[0m                                             \u001b[0mfetch_list\u001b[0m\u001b[0;34m,\u001b[0m \u001b[0mtarget_list\u001b[0m\u001b[0;34m,\u001b[0m\u001b[0;34m\u001b[0m\u001b[0;34m\u001b[0m\u001b[0m\n\u001b[0;32m-> 1443\u001b[0;31m                                             run_metadata)\n\u001b[0m\u001b[1;32m   1444\u001b[0m \u001b[0;34m\u001b[0m\u001b[0m\n\u001b[1;32m   1445\u001b[0m   \u001b[0;32mdef\u001b[0m \u001b[0m_call_tf_sessionprun\u001b[0m\u001b[0;34m(\u001b[0m\u001b[0mself\u001b[0m\u001b[0;34m,\u001b[0m \u001b[0mhandle\u001b[0m\u001b[0;34m,\u001b[0m \u001b[0mfeed_dict\u001b[0m\u001b[0;34m,\u001b[0m \u001b[0mfetch_list\u001b[0m\u001b[0;34m)\u001b[0m\u001b[0;34m:\u001b[0m\u001b[0;34m\u001b[0m\u001b[0;34m\u001b[0m\u001b[0m\n",
            "\u001b[0;31mKeyboardInterrupt\u001b[0m: "
          ]
        }
      ]
    }
  ]
}